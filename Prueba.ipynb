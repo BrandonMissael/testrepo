{
    "cells": [
        {
            "cell_type": "markdown",
            "metadata": {},
            "source": "Prueba de datos"
        },
        {
            "cell_type": "code",
            "execution_count": 1,
            "metadata": {},
            "outputs": [
                {
                    "data": {
                        "text/html": "<div>\n<style scoped>\n    .dataframe tbody tr th:only-of-type {\n        vertical-align: middle;\n    }\n\n    .dataframe tbody tr th {\n        vertical-align: top;\n    }\n\n    .dataframe thead th {\n        text-align: right;\n    }\n</style>\n<table border=\"1\" class=\"dataframe\">\n  <thead>\n    <tr style=\"text-align: right;\">\n      <th></th>\n      <th>Staff ID</th>\n      <th>Staff Name</th>\n      <th>Email</th>\n      <th>Department</th>\n      <th>Manager</th>\n      <th>Branch</th>\n      <th>Course Name</th>\n      <th>Course Date</th>\n    </tr>\n  </thead>\n  <tbody>\n    <tr>\n      <th>0</th>\n      <td>12132</td>\n      <td>Clara Immanuelle</td>\n      <td>cimmanuelle@adventureworks.com</td>\n      <td>Sales</td>\n      <td>Gina Chen</td>\n      <td>Brisbane</td>\n      <td>Excel Intermediate</td>\n      <td>21/06/2021</td>\n    </tr>\n    <tr>\n      <th>1</th>\n      <td>12340</td>\n      <td>Neve Pearson</td>\n      <td>npearson@adventureworks.com</td>\n      <td>Sales</td>\n      <td>Alessandro Tolomeo</td>\n      <td>Brisbane</td>\n      <td>Word Intermediate</td>\n      <td>11/06/2021</td>\n    </tr>\n    <tr>\n      <th>2</th>\n      <td>12334</td>\n      <td>Connor Wilkinson</td>\n      <td>cwilkinson@adventureworks.com</td>\n      <td>Sales</td>\n      <td>Alessandro Tolomeo</td>\n      <td>Brisbane</td>\n      <td>Excel Advanced</td>\n      <td>28/06/2021</td>\n    </tr>\n    <tr>\n      <th>3</th>\n      <td>12272</td>\n      <td>William Cheung</td>\n      <td>wcheung@adventureworks.com</td>\n      <td>Admin</td>\n      <td>John Watson</td>\n      <td>Brisbane</td>\n      <td>Excel Intermediate</td>\n      <td>21/06/2021</td>\n    </tr>\n    <tr>\n      <th>4</th>\n      <td>12314</td>\n      <td>Nathaniel Merlino</td>\n      <td>nmerlino@adventureworks.com</td>\n      <td>Admin</td>\n      <td>John Watson</td>\n      <td>Brisbane</td>\n      <td>Word Intermediate</td>\n      <td>11/06/2021</td>\n    </tr>\n  </tbody>\n</table>\n</div>",
                        "text/plain": "   Staff ID         Staff Name                           Email Department  \\\n0     12132   Clara Immanuelle  cimmanuelle@adventureworks.com      Sales   \n1     12340       Neve Pearson     npearson@adventureworks.com      Sales   \n2     12334   Connor Wilkinson   cwilkinson@adventureworks.com      Sales   \n3     12272     William Cheung      wcheung@adventureworks.com      Admin   \n4     12314  Nathaniel Merlino     nmerlino@adventureworks.com      Admin   \n\n              Manager    Branch         Course Name Course Date  \n0           Gina Chen  Brisbane  Excel Intermediate  21/06/2021  \n1  Alessandro Tolomeo  Brisbane   Word Intermediate  11/06/2021  \n2  Alessandro Tolomeo  Brisbane      Excel Advanced  28/06/2021  \n3         John Watson  Brisbane  Excel Intermediate  21/06/2021  \n4         John Watson  Brisbane   Word Intermediate  11/06/2021  "
                    },
                    "execution_count": 1,
                    "metadata": {},
                    "output_type": "execute_result"
                }
            ],
            "source": "# The code was removed by Watson Studio for sharing."
        },
        {
            "cell_type": "code",
            "execution_count": null,
            "metadata": {},
            "outputs": [],
            "source": ""
        }
    ],
    "metadata": {
        "kernelspec": {
            "display_name": "Python 3.8",
            "language": "python",
            "name": "python3"
        },
        "language_info": {
            "codemirror_mode": {
                "name": "ipython",
                "version": 3
            },
            "file_extension": ".py",
            "mimetype": "text/x-python",
            "name": "python",
            "nbconvert_exporter": "python",
            "pygments_lexer": "ipython3",
            "version": "3.8.12"
        }
    },
    "nbformat": 4,
    "nbformat_minor": 1
}